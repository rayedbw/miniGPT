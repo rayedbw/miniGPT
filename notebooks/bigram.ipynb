{
 "cells": [
  {
   "cell_type": "code",
   "execution_count": 1,
   "metadata": {},
   "outputs": [],
   "source": [
    "from pathlib import Path\n",
    "import requests\n",
    "import torch\n",
    "import torch.nn as nn\n",
    "from torch.nn import functional as F"
   ]
  },
  {
   "cell_type": "code",
   "execution_count": 2,
   "metadata": {},
   "outputs": [
    {
     "name": "stdout",
     "output_type": "stream",
     "text": [
      "Dataset exists\n"
     ]
    }
   ],
   "source": [
    "url = 'https://raw.githubusercontent.com/karpathy/char-rnn/master/data/tinyshakespeare/input.txt'\n",
    "file_path = Path('./shakespeare.txt')\n",
    "if not file_path.exists():\n",
    "    print('Downloading...')\n",
    "    with requests.get(url, stream=True) as r:\n",
    "        with open(file_path, 'wb') as f:\n",
    "            for chunk in r.iter_content(chunk_size=1024):\n",
    "                f.write(chunk)\n",
    "    print(f'Saving to {file_path}')\n",
    "else:\n",
    "    print(\"Dataset exists\")\n"
   ]
  },
  {
   "cell_type": "code",
   "execution_count": 3,
   "metadata": {},
   "outputs": [
    {
     "name": "stdout",
     "output_type": "stream",
     "text": [
      "First Citizen:\n",
      "Before we proceed any further, hear me speak.\n",
      "\n",
      "All:\n",
      "Speak, speak.\n",
      "\n",
      "First Citizen:\n",
      "You are all resolved rather to die than to famish?\n",
      "\n",
      "All:\n",
      "Resolved. resolved.\n",
      "\n",
      "First Citizen:\n",
      "First, you know Caius Marcius is chief enemy to the people.\n",
      "\n",
      "All:\n",
      "We know't, we know't.\n",
      "\n",
      "First Citizen:\n",
      "Let us kill him, and we'll have corn at our own price.\n",
      "Is't a verdict?\n",
      "\n",
      "All:\n",
      "No more talking on't; let it be done: away, away!\n",
      "\n",
      "Second Citizen:\n",
      "One word, good citizens.\n",
      "\n",
      "First Citizen:\n",
      "We are accounted poor citizens, the patricians good.\n",
      "What authority surfeits on would relieve us: if they\n",
      "would yield us but the superfluity, while it were\n",
      "wholesome, we might guess they relieved us humanely;\n",
      "but they think we are too dear: the leanness that\n",
      "afflicts us, the object of our misery, is as an\n",
      "inventory to particularise their abundance; our\n",
      "sufferance is a gain to them Let us revenge this with\n",
      "our pikes, ere we become rakes: for the gods know I\n",
      "speak this in hunger for bread, not in thirst for revenge.\n",
      "\n",
      "\n"
     ]
    }
   ],
   "source": [
    "with open('shakespeare.txt') as f:\n",
    "    text = f.read() \n",
    "print(text[:1000])"
   ]
  },
  {
   "cell_type": "code",
   "execution_count": 4,
   "metadata": {},
   "outputs": [
    {
     "name": "stdout",
     "output_type": "stream",
     "text": [
      "\n",
      " !$&',-.3:;?ABCDEFGHIJKLMNOPQRSTUVWXYZabcdefghijklmnopqrstuvwxyz\n",
      "65\n"
     ]
    }
   ],
   "source": [
    "chars = sorted(list(set(text)))\n",
    "vocab_size = len(chars)\n",
    "print(''.join(chars))\n",
    "print(vocab_size)"
   ]
  },
  {
   "cell_type": "code",
   "execution_count": 5,
   "metadata": {},
   "outputs": [
    {
     "name": "stdout",
     "output_type": "stream",
     "text": [
      "[20, 43, 50, 50, 53, 1, 32, 46, 43, 56, 43, 2]\n",
      "Hello There!\n"
     ]
    }
   ],
   "source": [
    "itos = {i:c for i, c in enumerate(chars)}\n",
    "ctoi = {c:i for i, c in itos.items()}\n",
    "encode = lambda s: [ctoi[c] for c in s]\n",
    "decode = lambda a: ''.join([itos[i] for i in a])\n",
    "\n",
    "t = 'Hello There!'\n",
    "print(encode(t))\n",
    "print(decode(encode(t)))"
   ]
  },
  {
   "cell_type": "code",
   "execution_count": 6,
   "metadata": {},
   "outputs": [
    {
     "name": "stdout",
     "output_type": "stream",
     "text": [
      "torch.Size([1115394]) torch.int64\n"
     ]
    },
    {
     "data": {
      "text/plain": [
       "tensor([18, 47, 56, 57, 58,  1, 15, 47, 58, 47, 64, 43, 52, 10,  0, 14, 43, 44,\n",
       "        53, 56, 43,  1, 61, 43,  1, 54, 56, 53, 41, 43, 43, 42,  1, 39, 52, 63,\n",
       "         1, 44, 59, 56, 58, 46, 43, 56,  6,  1, 46, 43, 39, 56,  1, 51, 43,  1,\n",
       "        57, 54, 43, 39, 49,  8,  0,  0, 13, 50, 50, 10,  0, 31, 54, 43, 39, 49,\n",
       "         6,  1, 57, 54, 43, 39, 49,  8,  0,  0, 18, 47, 56, 57, 58,  1, 15, 47,\n",
       "        58, 47, 64, 43, 52, 10,  0, 37, 53, 59])"
      ]
     },
     "execution_count": 6,
     "metadata": {},
     "output_type": "execute_result"
    }
   ],
   "source": [
    "data = torch.tensor(encode(text))\n",
    "print(data.shape, data.dtype)\n",
    "data[:100]"
   ]
  },
  {
   "cell_type": "code",
   "execution_count": 7,
   "metadata": {},
   "outputs": [
    {
     "name": "stdout",
     "output_type": "stream",
     "text": [
      "torch.Size([1003854]) torch.Size([111540])\n"
     ]
    }
   ],
   "source": [
    "n = int(0.9 * len(data))\n",
    "train_data = data[:n]\n",
    "val_data = data[n:]\n",
    "print(train_data.shape, val_data.shape)"
   ]
  },
  {
   "cell_type": "code",
   "execution_count": 8,
   "metadata": {},
   "outputs": [],
   "source": [
    "torch.manual_seed(1337)\n",
    "batch_size = 4\n",
    "context_length = 8\n",
    "\n",
    "def get_batch(split):\n",
    "    data = train_data if split == 'train' else val_data\n",
    "    ix = torch.randint(len(data) - context_length, (batch_size,))\n",
    "    x = torch.stack([data[i:i+context_length] for i in ix])\n",
    "    y = torch.stack([data[i+1:i+context_length+1] for i in ix])\n",
    "    return x, y\n",
    "\n",
    "xb, yb = get_batch(train_data)\n",
    "xb, yb = get_batch('train')\n",
    "# print('inputs:')\n",
    "# print(xb.shape)\n",
    "# print(xb)\n",
    "# print('targets:')\n",
    "# print(yb.shape)\n",
    "# print(yb)\n",
    "# print('----')\n",
    "# for b in range(batch_size): # batch dimension\n",
    "#     for t in range(context_length): # time dimension\n",
    "#         context = xb[b, :t+1]\n",
    "#         target = yb[b,t]\n",
    "#         print(f\"when input is: {context.tolist()}; the target is: {target}\")"
   ]
  },
  {
   "cell_type": "code",
   "execution_count": 9,
   "metadata": {},
   "outputs": [],
   "source": [
    "torch.manual_seed(1337)\n",
    "\n",
    "class BigramLM(nn.Module):\n",
    "\n",
    "    def __init__(self, vocab_size):\n",
    "        super().__init__()\n",
    "        self.embed = nn.Embedding(vocab_size, vocab_size)\n",
    "\n",
    "    def forward(self, inputs, targets=None):\n",
    "        loss = None\n",
    "        logits = self.embed(inputs)\n",
    "        \n",
    "        if targets is None:\n",
    "            return logits, loss \n",
    "        \n",
    "        B, T, C = logits.shape\n",
    "        logits = logits.view(B * T, C)\n",
    "        targets = targets.view(B * T)\n",
    "        loss = F.cross_entropy(logits, targets)\n",
    "        \n",
    "        return logits, loss\n",
    "    \n",
    "    def generate(self, input, max_num_tokens=50):\n",
    "        for _ in range(max_num_tokens):\n",
    "            logits, _ = self(input)\n",
    "            logits = logits[:, -1, :]\n",
    "            probs = F.softmax(logits, dim=1)\n",
    "            preds = torch.multinomial(probs, num_samples=1)\n",
    "            input = torch.concatenate((input, preds), dim=1)\n",
    "        return input"
   ]
  },
  {
   "cell_type": "code",
   "execution_count": 10,
   "metadata": {},
   "outputs": [
    {
     "name": "stdout",
     "output_type": "stream",
     "text": [
      "torch.Size([32, 65])\n",
      "tensor(4.4150, grad_fn=<NllLossBackward0>)\n",
      "\n",
      "SKIcLT;AcELMoTbvZv C?nq-QE33:CJqkOKH-q;:la!oiywkHj\n"
     ]
    }
   ],
   "source": [
    "model = BigramLM(vocab_size)\n",
    "logits, loss = model(xb, yb)\n",
    "print(logits.shape)\n",
    "print(loss)\n",
    "\n",
    "input = torch.zeros((1, 1), dtype=torch.long)\n",
    "print(decode(model.generate(input)[0].tolist()))"
   ]
  },
  {
   "cell_type": "code",
   "execution_count": 11,
   "metadata": {},
   "outputs": [],
   "source": [
    "device = 'cuda' if torch.cuda.is_available() else 'cpu'"
   ]
  },
  {
   "cell_type": "code",
   "execution_count": 12,
   "metadata": {},
   "outputs": [],
   "source": [
    "batch_size = 128\n",
    "def train(model, max_steps=int(1e3)):\n",
    "    losses = []\n",
    "    model.train()\n",
    "    model.to(device)\n",
    "    optimizer = torch.optim.AdamW(model.parameters(), lr=1e-3)\n",
    "    for step in range(max_steps):\n",
    "        xb, yb = get_batch('train')\n",
    "        xb = xb.to(device)\n",
    "        yb = yb.to(device)\n",
    "        logits, loss = model(xb, yb)\n",
    "        optimizer.zero_grad(set_to_none=True)\n",
    "        loss.backward()\n",
    "        optimizer.step()\n",
    "        losses.append(loss)\n",
    "    model.eval()\n",
    "    print(torch.tensor(losses).mean())"
   ]
  },
  {
   "cell_type": "code",
   "execution_count": 13,
   "metadata": {},
   "outputs": [
    {
     "name": "stdout",
     "output_type": "stream",
     "text": [
      "2.5075032711029053\n"
     ]
    }
   ],
   "source": [
    "# train(model, max_steps=int(1e5))\n",
    "# torch.save(model.state_dict(), './bigram.pt')\n",
    "# del model"
   ]
  },
  {
   "cell_type": "code",
   "execution_count": 14,
   "metadata": {},
   "outputs": [
    {
     "data": {
      "text/plain": [
       "BigramLM(\n",
       "  (embed): Embedding(65, 65)\n",
       ")"
      ]
     },
     "execution_count": 14,
     "metadata": {},
     "output_type": "execute_result"
    }
   ],
   "source": [
    "model = BigramLM(vocab_size)\n",
    "model.load_state_dict(torch.load('./bigram.pt'))\n",
    "model.eval()\n",
    "model.to(device)"
   ]
  },
  {
   "cell_type": "code",
   "execution_count": 15,
   "metadata": {},
   "outputs": [
    {
     "name": "stdout",
     "output_type": "stream",
     "text": [
      "\n",
      "\n",
      "\n",
      "CExthy brid owindakis s, bth\n",
      "\n",
      "Hiset bube d e.\n",
      "S:\n",
      "O:\n",
      "IS:\n",
      "Falatanss:\n",
      "Wanthar u qur, vet?\n",
      "F dilasoate awice my.\n",
      "\n",
      "Hastarom oroup\n",
      "Yowhthetof isth ble mil ndill, ath iree sengmin lat Heriliovets, and Win nghir.\n",
      "Thanousel lind me l.\n",
      "HAshe ce hiry:\n",
      "Supr aisspllw y.\n",
      "Hentoul n Boopetelaves\n",
      "MP:\n",
      "\n",
      "Pl, d mothakleo Windo whth eisbyo the m dourive we higend t so mower; te\n",
      "\n",
      "AN ad nterupt f s ar igr t m:\n",
      "\n",
      "Thiny aleronth,\n",
      "Mad\n",
      "Whed my o myr f-bube!\n",
      "KENoby ak\n",
      "Sadsal thes ghesthidin cour ay aney Iry ts I fr t ce.\n",
      "Jonge ton, bemary.\n",
      "Yof 'sour mend sora anghy t--pond betwe ten.\n",
      "Wand thot sulin s th llety ome.\n",
      "I muco ffepyotssthecas l.\n",
      "TAn.\n",
      "Mourethal wave.\n",
      "se ed Pe bene ovetour?\n",
      "Cassce oros cok hedin tie s ind aus te fe f tas ny, ct Clo gscest hes,\n",
      "A: du he n, soxcone.\n",
      "\n",
      "NENobeakes aghercobun ws m k s withoumas Fond t s wllo INour id, mersed\n",
      "Fourd?\n",
      "TI idurd po venond, d Cad ty\n",
      "K:\n",
      "BIUSoou tiund thornofen e sutan wiporthare whanot, sitthers, spe Bllellke, on s h O, t pan, ce wat d tive wout ir f; u;\n",
      "\n",
      "Fe cen oue\n"
     ]
    }
   ],
   "source": [
    "input = torch.zeros((1, 1), dtype=torch.long)\n",
    "print(decode(model.generate(input.to(device), max_num_tokens=1000)[0].tolist()))"
   ]
  },
  {
   "cell_type": "code",
   "execution_count": 16,
   "metadata": {},
   "outputs": [
    {
     "data": {
      "text/plain": [
       "torch.Size([4, 8, 2])"
      ]
     },
     "execution_count": 16,
     "metadata": {},
     "output_type": "execute_result"
    }
   ],
   "source": [
    "import torch\n",
    "B, T, C = 4, 8, 2\n",
    "x = torch.round(torch.randn(B, T, C), decimals=3)\n",
    "x.shape"
   ]
  },
  {
   "cell_type": "code",
   "execution_count": 17,
   "metadata": {},
   "outputs": [
    {
     "data": {
      "text/plain": [
       "tensor([[ 0.4330, -1.4870],\n",
       "        [-0.4600,  0.2510],\n",
       "        [-3.2010,  1.0920],\n",
       "        [ 1.2770,  0.2270],\n",
       "        [ 0.2660,  0.4500],\n",
       "        [ 0.7730,  0.8520],\n",
       "        [ 0.5340,  1.3030],\n",
       "        [-0.0610,  0.7260]])"
      ]
     },
     "execution_count": 17,
     "metadata": {},
     "output_type": "execute_result"
    }
   ],
   "source": [
    "x[0]"
   ]
  },
  {
   "cell_type": "code",
   "execution_count": 18,
   "metadata": {},
   "outputs": [],
   "source": [
    "xbow = torch.zeros((B, T, C))\n",
    "for b in range(B):\n",
    "    for t in range(T):\n",
    "        xprev = x[b,:t+1]\n",
    "        xbow[b, t] = xprev.mean(dim=0)"
   ]
  },
  {
   "cell_type": "code",
   "execution_count": 19,
   "metadata": {},
   "outputs": [
    {
     "data": {
      "text/plain": [
       "tensor([[ 0.4330, -1.4870],\n",
       "        [-0.0135, -0.6180],\n",
       "        [-1.0760, -0.0480],\n",
       "        [-0.4877,  0.0207],\n",
       "        [-0.3370,  0.1066],\n",
       "        [-0.1520,  0.2308],\n",
       "        [-0.0540,  0.3840],\n",
       "        [-0.0549,  0.4268]])"
      ]
     },
     "execution_count": 19,
     "metadata": {},
     "output_type": "execute_result"
    }
   ],
   "source": [
    "xbow[0]"
   ]
  },
  {
   "cell_type": "code",
   "execution_count": 20,
   "metadata": {},
   "outputs": [
    {
     "data": {
      "text/plain": [
       "tensor([[ 0.4330, -1.4870],\n",
       "        [-0.0135, -0.6180],\n",
       "        [-1.0760, -0.0480],\n",
       "        [-0.4877,  0.0208],\n",
       "        [-0.3370,  0.1066],\n",
       "        [-0.1520,  0.2308],\n",
       "        [-0.0540,  0.3840],\n",
       "        [-0.0549,  0.4268]])"
      ]
     },
     "execution_count": 20,
     "metadata": {},
     "output_type": "execute_result"
    }
   ],
   "source": [
    "wei = torch.tril(torch.ones(T, T))\n",
    "wei = wei / wei.sum(dim=1, keepdim=True)\n",
    "xbow2 = wei @ x\n",
    "xbow2[0]"
   ]
  },
  {
   "cell_type": "code",
   "execution_count": 21,
   "metadata": {},
   "outputs": [
    {
     "data": {
      "text/plain": [
       "True"
      ]
     },
     "execution_count": 21,
     "metadata": {},
     "output_type": "execute_result"
    }
   ],
   "source": [
    "torch.allclose(xbow, xbow2)"
   ]
  },
  {
   "cell_type": "code",
   "execution_count": 22,
   "metadata": {},
   "outputs": [
    {
     "data": {
      "text/plain": [
       "tensor([[ 0.4330, -1.4870],\n",
       "        [-0.0135, -0.6180],\n",
       "        [-1.0760, -0.0480],\n",
       "        [-0.4877,  0.0208],\n",
       "        [-0.3370,  0.1066],\n",
       "        [-0.1520,  0.2308],\n",
       "        [-0.0540,  0.3840],\n",
       "        [-0.0549,  0.4268]])"
      ]
     },
     "execution_count": 22,
     "metadata": {},
     "output_type": "execute_result"
    }
   ],
   "source": [
    "from torch.nn import functional as F\n",
    "tril = torch.tril(torch.ones((T, T)))\n",
    "wei = torch.zeros((T, T))\n",
    "wei = wei.masked_fill(tril == 0, float('-inf'))\n",
    "wei = F.softmax(wei, dim=1)\n",
    "xbow3 = wei @ x\n",
    "xbow3[0]"
   ]
  },
  {
   "cell_type": "code",
   "execution_count": 18,
   "metadata": {},
   "outputs": [
    {
     "name": "stdout",
     "output_type": "stream",
     "text": [
      "torch.Size([4, 8, 8])\n",
      "torch.Size([4, 8, 16])\n"
     ]
    }
   ],
   "source": [
    "import torch\n",
    "import torch.nn as nn\n",
    "\n",
    "torch.manual_seed(43)\n",
    "\n",
    "B, T, C = 4, 8, 32\n",
    "x = torch.round(torch.randn(B, T, C), decimals=3) # (B, T, C)\n",
    "\n",
    "# Single Self Attention\n",
    "H = 16 # Number of heads\n",
    "query = nn.Linear(C, H, bias=False)\n",
    "key = nn.Linear(C, H, bias=False)\n",
    "value = nn.Linear(C, H, bias=False)\n",
    "\n",
    "q = query(x) # B, T, C @ C, H --> B, T, H\n",
    "k = key(x)   # B, T, C @ C, H --> B, T, H\n",
    "v = value(x) # B, T, H\n",
    "wei = q @ k.transpose(-2, -1) # B, T, T\n",
    "print(wei.shape)\n",
    "# print(wei)\n",
    "\n",
    "from torch.nn import functional as F\n",
    "tril = torch.tril(torch.ones((T, T)))\n",
    "# wei = torch.zeros((T, T))\n",
    "wei = wei.masked_fill(tril == 0, float('-inf'))\n",
    "wei = F.softmax(wei, dim=1) # (T, T)\n",
    "xbow = wei @ v # --> B, T, T @ T, H  --> B, T, H\n",
    "print(xbow.shape)"
   ]
  },
  {
   "cell_type": "code",
   "execution_count": 20,
   "metadata": {},
   "outputs": [
    {
     "data": {
      "text/plain": [
       "tensor([[[ 2.4819e-02, -9.9487e-02,  1.0058e-01, -6.7135e-02,  6.4086e-02,\n",
       "           1.2452e-03, -7.3203e-02, -2.6080e-02, -4.8787e-02, -1.2246e-02,\n",
       "           4.4570e-03, -4.8490e-02,  3.3838e-02,  1.0091e-01, -6.3384e-03,\n",
       "           1.4211e-03],\n",
       "         [-1.0222e-02, -3.7330e-02,  8.7879e-03,  1.9920e-01, -1.1404e-01,\n",
       "          -8.4670e-02, -1.1518e-01, -9.5564e-02, -1.1023e-01,  2.4883e-01,\n",
       "          -2.7324e-01, -1.0239e-02,  4.9485e-02, -1.2546e-01,  6.5045e-02,\n",
       "           8.1755e-02],\n",
       "         [ 1.5698e-01, -2.4639e-01,  3.7068e-01,  3.7799e-03,  2.8637e-02,\n",
       "           2.9191e-02, -1.5189e-01, -5.7714e-02, -7.7026e-03,  1.9733e-01,\n",
       "          -3.5101e-02,  3.2930e-02,  1.2442e-01,  1.4528e-01, -1.4823e-01,\n",
       "          -2.7407e-01],\n",
       "         [ 1.3579e-02, -1.3931e-01,  1.8807e-01,  1.7672e-01, -1.5920e-01,\n",
       "          -2.4711e-02, -1.3165e-01, -6.0952e-02, -5.7402e-02,  2.9385e-01,\n",
       "          -1.4252e-01,  7.8842e-02,  1.0188e-01, -2.4537e-02, -2.1866e-02,\n",
       "          -3.3277e-02],\n",
       "         [-3.9031e-01, -4.4944e-01, -2.6944e-01, -3.5388e-01, -1.7258e-01,\n",
       "           3.2372e-01, -5.4500e-02, -1.8299e-01,  6.7024e-02,  2.4484e-01,\n",
       "           1.2305e-01,  2.3605e-01, -9.7530e-02, -1.5077e-01,  6.0707e-01,\n",
       "           4.6884e-01],\n",
       "         [ 1.8618e-01, -4.4420e-01,  2.5071e-02, -2.5526e-01,  3.5134e-02,\n",
       "          -2.3047e-01, -1.6305e-01, -2.0717e-01,  9.8873e-03,  1.7881e-01,\n",
       "          -2.0939e-01,  6.2896e-03,  2.8685e-01, -3.0010e-01,  1.6026e-01,\n",
       "          -2.1996e-01],\n",
       "         [-6.7562e-01,  1.4702e-02, -7.6404e-01, -4.7208e-01,  2.0150e-01,\n",
       "           4.7177e-01, -5.9348e-01, -1.2295e-01, -2.4814e-01,  9.2178e-01,\n",
       "           5.2104e-01,  8.5959e-01, -1.3910e-01,  6.8780e-01,  1.3852e+00,\n",
       "          -7.1988e-02],\n",
       "         [ 3.1814e-01, -3.5759e-01, -2.3300e-01, -8.5088e-01, -1.5342e-02,\n",
       "          -2.4992e-01, -6.2221e-01,  1.3596e-01, -6.2533e-01, -6.4737e-01,\n",
       "           8.6558e-01, -2.8289e-01, -2.5731e-01,  2.0686e-01, -5.4344e-01,\n",
       "          -9.9549e-02]],\n",
       "\n",
       "        [[ 5.5108e-04,  2.7807e-03,  1.5538e-02,  5.4437e-04,  8.0930e-03,\n",
       "           3.6057e-03,  4.8674e-03, -3.5203e-03,  1.8837e-03,  1.1964e-02,\n",
       "          -5.1698e-03,  4.1526e-03,  4.9425e-03,  1.4838e-02, -8.2054e-03,\n",
       "          -8.3078e-03],\n",
       "         [-5.5950e-02, -7.5049e-02, -3.0017e-02, -4.1334e-02,  1.1814e-01,\n",
       "           1.5880e-01, -5.5125e-03,  1.8015e-02,  1.3443e-01, -6.1054e-02,\n",
       "           1.0950e-01, -1.7619e-02, -8.5416e-02,  1.2360e-01,  8.1224e-03,\n",
       "          -1.6791e-02],\n",
       "         [-1.5467e-01, -2.1515e-01,  4.2718e-02,  8.1649e-02,  2.7149e-01,\n",
       "           2.1943e-01,  1.2912e-01, -1.4571e-01, -3.1384e-01, -1.5223e-01,\n",
       "           1.9675e-01, -3.9431e-01,  2.7946e-02,  3.1776e-01, -2.3044e-03,\n",
       "           1.9630e-02],\n",
       "         [-1.2139e-01,  1.1729e-02,  1.3684e-01, -1.4193e-02,  2.4807e-01,\n",
       "           3.8151e-01,  3.4088e-02, -6.1318e-02,  1.4874e-01,  4.5626e-02,\n",
       "           5.1625e-02,  5.0155e-02,  2.4552e-02,  2.0388e-01, -1.2694e-02,\n",
       "          -1.7937e-01],\n",
       "         [-1.2267e-01, -6.5651e-02,  1.6292e-01,  1.1456e-01,  3.4012e-01,\n",
       "           4.0247e-01,  1.6629e-01, -2.8807e-01, -1.3342e-01, -3.5428e-02,\n",
       "          -1.2940e-02, -2.7084e-01,  1.1770e-01,  1.2502e-01,  9.4976e-02,\n",
       "          -2.0431e-01],\n",
       "         [ 2.0937e-02, -4.4179e-01,  5.7895e-02, -6.6524e-01,  8.7418e-02,\n",
       "           3.9989e-01,  2.6010e-01, -1.2067e+00, -1.6408e-01,  9.2340e-02,\n",
       "           1.6126e-01, -6.0406e-01,  7.9841e-02, -8.0180e-02,  8.1060e-01,\n",
       "           2.2219e-01],\n",
       "         [ 3.7907e-01,  5.6522e-02,  6.7493e-01,  1.5062e-01,  2.6604e-02,\n",
       "           4.1300e-01,  2.6772e-01, -8.2746e-01,  2.4644e-01,  1.0370e+00,\n",
       "          -6.2669e-01, -1.6209e-01,  5.4407e-01,  3.1110e-01,  7.1311e-01,\n",
       "          -3.6535e-02],\n",
       "         [ 3.5725e-01,  2.5684e-01,  6.3089e-01,  1.1206e+00, -1.3429e-01,\n",
       "           1.7292e+00,  6.8816e-01, -1.5646e+00, -5.2533e-01,  1.5803e+00,\n",
       "          -1.0052e+00, -6.1097e-01,  6.5198e-01,  1.8168e-01,  1.1575e+00,\n",
       "          -1.9893e-01]],\n",
       "\n",
       "        [[ 2.3205e-02,  2.2757e-02, -1.9789e-02,  1.4077e-02, -1.7335e-02,\n",
       "           4.8503e-03, -1.1498e-02, -6.6175e-04, -9.5154e-03,  1.2600e-02,\n",
       "           1.6395e-02, -1.5493e-02,  3.6700e-03, -9.7010e-03,  1.2881e-02,\n",
       "          -1.3180e-02],\n",
       "         [ 1.2389e-01,  1.0642e-01, -8.6594e-02,  7.2378e-02, -4.9463e-02,\n",
       "           7.9358e-03, -3.6901e-02, -2.6618e-02, -1.9115e-02,  6.7756e-02,\n",
       "           5.9492e-02, -8.9950e-02,  2.5462e-02, -6.1080e-02,  4.9038e-02,\n",
       "          -7.1881e-02],\n",
       "         [ 1.6938e-01,  1.3961e-01, -9.3092e-02,  8.8152e-02,  2.1462e-01,\n",
       "          -9.4644e-02,  9.6997e-02, -2.2177e-01,  1.8638e-01,  1.0576e-01,\n",
       "          -3.1375e-02, -2.1783e-01,  9.9863e-02, -1.4418e-01, -1.6577e-02,\n",
       "          -1.0754e-01],\n",
       "         [ 3.5674e-01,  2.5820e-01, -2.5572e-02,  1.6105e-01,  1.8790e-01,\n",
       "          -1.2364e-01,  1.1602e-01, -3.0165e-01,  2.6667e-01,  1.9944e-01,\n",
       "          -7.2254e-02, -2.3362e-01,  1.6385e-01, -2.7322e-01, -7.0693e-02,\n",
       "          -2.7281e-01],\n",
       "         [ 2.2084e-01,  2.8716e-01, -6.8763e-02, -6.9094e-03, -4.3703e-02,\n",
       "          -1.7947e-03, -9.5844e-02, -1.4237e-01,  1.5285e-01,  1.6427e-01,\n",
       "           3.5335e-02,  1.6447e-02,  1.4039e-01, -2.1769e-01, -2.0087e-01,\n",
       "          -3.4605e-01],\n",
       "         [-3.9584e-01,  3.5003e-01, -8.7740e-02,  2.6756e-01,  3.8965e-01,\n",
       "           1.2413e-01,  2.2929e-01, -4.8662e-01,  6.7589e-01, -4.8992e-02,\n",
       "          -4.9587e-02,  1.5199e-01, -1.5022e-01, -1.5453e-01,  2.0450e-03,\n",
       "          -3.8281e-01],\n",
       "         [-6.9360e-02,  1.8406e-01,  5.4649e-01,  2.9923e-01, -2.1377e-01,\n",
       "           1.5892e-01,  3.1296e-01, -2.2173e-01,  3.7807e-01, -2.1411e-01,\n",
       "          -3.8495e-01,  5.9253e-01, -2.6278e-01, -4.2028e-01,  7.8795e-02,\n",
       "          -6.7539e-01],\n",
       "         [ 9.3044e-02, -2.4503e-01, -4.3621e-01, -2.6208e-01, -2.9747e-01,\n",
       "           1.0621e-03,  5.6095e-01, -6.2389e-01, -7.3532e-01, -6.0906e-01,\n",
       "          -5.4503e-01, -5.1549e-01,  1.3347e-01, -1.0607e+00,  9.5638e-01,\n",
       "          -4.0949e-01]],\n",
       "\n",
       "        [[ 4.8533e-04, -9.6469e-03,  8.0226e-03,  3.2793e-02, -5.9350e-03,\n",
       "          -2.1008e-02,  2.4317e-02, -6.2781e-03, -3.5563e-02,  1.0061e-02,\n",
       "          -4.2793e-02, -5.1783e-02,  7.9252e-03,  9.6481e-03, -1.5106e-02,\n",
       "           9.4696e-03],\n",
       "         [-2.3775e-01, -4.7825e-01,  2.0250e-01,  1.8365e-01,  2.7885e-01,\n",
       "           4.7640e-01, -9.7871e-02, -1.1267e-01, -2.5545e-01, -8.7534e-02,\n",
       "          -2.0674e-01,  3.3880e-01,  3.3676e-01, -2.7137e-01,  2.0361e-01,\n",
       "           1.2359e-01],\n",
       "         [-3.2028e-02,  3.7304e-02, -8.9459e-02,  7.2719e-02, -1.1509e-01,\n",
       "          -2.2188e-01,  9.4399e-02,  7.9998e-02,  7.1338e-02, -8.4639e-02,\n",
       "          -7.2460e-02, -3.0035e-02, -2.3117e-02,  1.9610e-01,  9.9062e-02,\n",
       "           1.3783e-01],\n",
       "         [-7.7418e-03, -1.5424e-01,  2.0919e-02, -6.5880e-02,  1.9311e-01,\n",
       "          -1.1714e-01,  1.0832e-01,  1.2785e-01,  2.5847e-01, -4.6636e-02,\n",
       "           5.4556e-02,  3.0292e-03, -9.4568e-02,  1.1671e-01, -1.2826e-01,\n",
       "           1.8211e-03],\n",
       "         [-2.9924e-02, -2.6219e-01,  2.2129e-01,  9.7172e-02,  1.1054e-01,\n",
       "           2.1050e-01,  7.1206e-02, -8.3481e-02, -1.2919e-02, -3.6399e-03,\n",
       "          -1.2326e-01, -1.3277e-02, -2.1367e-02,  7.8865e-02, -1.0879e-02,\n",
       "          -7.2940e-02],\n",
       "         [-1.4942e-02, -5.6957e-01,  2.2258e-01, -1.3018e-01,  4.7971e-01,\n",
       "           2.4772e-01, -1.5420e-01, -7.2010e-02,  4.3149e-01, -1.6322e-01,\n",
       "           1.8418e-01,  1.1013e-01, -1.2743e-01,  3.2952e-02,  7.8598e-02,\n",
       "          -2.8040e-01],\n",
       "         [-1.8261e-01, -7.5081e-01,  5.1482e-01, -4.7040e-01,  5.1321e-01,\n",
       "           5.5239e-01, -5.2314e-01, -3.3883e-01,  6.9010e-01, -4.0790e-01,\n",
       "           4.2430e-01,  3.7732e-01, -5.6957e-01,  4.0644e-01,  5.5264e-01,\n",
       "          -7.6598e-01],\n",
       "         [-6.8123e-01,  1.7714e-01, -2.8894e-01, -9.7051e-01,  1.9228e-01,\n",
       "          -1.0616e+00, -6.0704e-01,  7.3491e-02,  1.0194e+00, -4.0487e-01,\n",
       "           8.1695e-01,  7.5794e-01, -8.1413e-01,  1.1110e+00,  5.8591e-01,\n",
       "           5.6840e-01]]], grad_fn=<UnsafeViewBackward0>)"
      ]
     },
     "execution_count": 20,
     "metadata": {},
     "output_type": "execute_result"
    }
   ],
   "source": [
    "xbow"
   ]
  }
 ],
 "metadata": {
  "kernelspec": {
   "display_name": "makemore",
   "language": "python",
   "name": "python3"
  },
  "language_info": {
   "codemirror_mode": {
    "name": "ipython",
    "version": 3
   },
   "file_extension": ".py",
   "mimetype": "text/x-python",
   "name": "python",
   "nbconvert_exporter": "python",
   "pygments_lexer": "ipython3",
   "version": "3.10.6 (main, Oct  7 2022, 20:19:58) [GCC 11.2.0]"
  },
  "orig_nbformat": 4,
  "vscode": {
   "interpreter": {
    "hash": "1c11ef332e51065c30b18e2c9558c66ad7f660930468551dc425f70d63832f82"
   }
  }
 },
 "nbformat": 4,
 "nbformat_minor": 2
}
